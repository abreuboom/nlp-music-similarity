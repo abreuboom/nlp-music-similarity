{
 "cells": [
  {
   "cell_type": "markdown",
   "metadata": {},
   "source": [
    "# NLP Final Project\n",
    "\n",
    "John Abreu, Pedro Guimaraes, Israel Montiel, and Michelle Youn"
   ]
  },
  {
   "cell_type": "code",
   "execution_count": 365,
   "metadata": {},
   "outputs": [],
   "source": [
    "import json, os, time, re, csv, sys\n",
    "import pandas as pd\n",
    "import numpy as np\n",
    "import urllib.request as urllib2\n",
    "\n",
    "import nltk\n",
    "import sklearn\n",
    "import gensim\n",
    "import scipy as sp\n",
    "import seaborn\n",
    "import matplotlib.pyplot as plt\n",
    "\n",
    "from wordcloud import WordCloud\n",
    "from nltk.corpus import stopwords\n",
    "from nltk.stem import WordNetLemmatizer\n",
    "from sklearn.cluster import KMeans\n",
    "from sklearn.feature_extraction.text import CountVectorizer\n",
    "from sklearn.feature_extraction.text import TfidfVectorizer\n",
    "from sklearn.decomposition import LatentDirichletAllocation as LDA"
   ]
  },
  {
   "cell_type": "markdown",
   "metadata": {},
   "source": [
    "# Assumptions\n",
    "1. All of the song are in English (a few are not, and some have verses in other languages)\n",
    "2. Slang words ending with \"-in\" replaced with \"-ing\""
   ]
  },
  {
   "cell_type": "code",
   "execution_count": 2,
   "metadata": {},
   "outputs": [
    {
     "data": {
      "text/plain": [
       "'/Users/michelleyoun/Desktop/nlp'"
      ]
     },
     "execution_count": 2,
     "metadata": {},
     "output_type": "execute_result"
    }
   ],
   "source": [
    "os.getcwd() #'/Users/michelleyoun/Desktop/nlp'"
   ]
  },
  {
   "cell_type": "markdown",
   "metadata": {},
   "source": [
    "# Heroku API Example \n",
    "\n",
    "Sample API call using song title and artist"
   ]
  },
  {
   "cell_type": "code",
   "execution_count": 3,
   "metadata": {},
   "outputs": [
    {
     "name": "stdout",
     "output_type": "stream",
     "text": [
      "Imagine there's no heaven\n",
      "It's easy if you try\n",
      "No hell below us\n",
      "Above us only sky\n",
      "\n",
      "Imagine all the people\n",
      "Living for today\n",
      "\n",
      "Imagine there's no countries\n",
      "It isn't hard to do\n",
      "Nothing to kill or die for\n",
      "And no religion too\n",
      "\n",
      "Imagine all the people\n",
      "Living life in peace\n",
      "\n",
      "You may say I'm a dreamer\n",
      "But I'm not the only one\n",
      "I hope someday you'll join us\n",
      "And the world will be as one\n",
      "\n",
      "Imagine no possessions\n",
      "I wonder if you can\n",
      "No need for greed or hunger\n",
      "A brotherhood of man\n",
      "\n",
      "Imagine all the people\n",
      "Sharing all the world\n",
      "\n",
      "You may say I'm a dreamer\n",
      "But I'm not the only one\n",
      "I hope someday you'll join us\n",
      "And the world will live as one\n"
     ]
    }
   ],
   "source": [
    "# Example: John Lennon's Imagine\n",
    "\n",
    "data = json.load(urllib2.urlopen('http://lyric-api.herokuapp.com/api/find/John%20Lennon/Imagine'))\n",
    "print(data['lyric'])"
   ]
  },
  {
   "cell_type": "markdown",
   "metadata": {},
   "source": [
    "# Scraping Lyrics - 1st Pass"
   ]
  },
  {
   "cell_type": "code",
   "execution_count": 601,
   "metadata": {
    "scrolled": true
   },
   "outputs": [],
   "source": [
    "# Original: https://github.com/kevinschaich\n",
    "# Modified by Michelle Youn for compatability with Python3 and Heroku API\n",
    "\n",
    "\n",
    "# Change directory\n",
    "os.chdir('/Users/michelleyoun/Desktop/nlp/billboard')\n",
    "\n",
    "\n",
    "# Track missed songs\n",
    "# keys: year, value: position\n",
    "years = range(1950, 2016)\n",
    "missed = {k: [] for k in years}\n",
    "\n",
    "\n",
    "# Iterate through years 1950 - 2015\n",
    "for year in range(2015, 1949, -1):\n",
    "    print(\"\\nFinding lyrics for year: \" + str(year) + \"\\n\")\n",
    "    \n",
    "    # Original file \n",
    "    file_name = str(year) + \".csv\"\n",
    "\n",
    "    # Get all song titles and associated artists\n",
    "    df = pd.read_csv(file_name, encoding = \"ISO-8859-1\")\n",
    "    \n",
    "    # Add \"Lyric\" column\n",
    "    df['Lyrics'] = ''\n",
    "    \n",
    "    # Eliminate spaces column name\n",
    "    df.columns = [c.replace(' ', '_') for c in df.columns]\n",
    "\n",
    "    count = 0\n",
    "    \n",
    "    # For each song, get metadata\n",
    "    for index, row in df.iterrows():\n",
    "        pos_col = df.columns[0]\n",
    "        pos = row[pos_col]\n",
    "        artist = row['Artist']\n",
    "        song_title = row['Song_Title']\n",
    "        \n",
    "        # Remove featured artist\n",
    "        artist = re.sub(r'feat.*', '', artist)\n",
    "        artist = re.sub(r'ft\\..*', r'', artist)\n",
    "        \n",
    "        song_title = re.sub(\"\\[\\(\\).*\\]\", \"\", song_title).strip()\n",
    "        \n",
    "        # Replace all spaces with %20\n",
    "        artist = re.sub(r'\\s+', '%20', artist)\n",
    "        song_title = re.sub(r\"\\s+\", \"%20\", song_title)\n",
    "        \n",
    "        if artist.endswith('%20'):\n",
    "            artist = artist[:-3]\n",
    "        \n",
    "        # Prep URL link\n",
    "        url = 'http://lyric-api.herokuapp.com/api/find/' + str(artist) + '/' + str(song_title)\n",
    "        # print(url)\n",
    "        \n",
    "        # Load URL\n",
    "        try: \n",
    "            data = json.load(urllib2.urlopen(url))\n",
    "            lyric = data['lyric']\n",
    "            df.at[index,'Lyrics'] = lyric\n",
    "    \n",
    "        except (urllib2.HTTPError, NameError, UnicodeDecodeError):\n",
    "            # missed[year].append(pos)\n",
    "            pass\n",
    "            \n",
    "        # CHECK: If lyrics did not load or are missing, add to missed \n",
    "        if not df.at[index,'Lyrics']:\n",
    "            missed[year].append(pos)\n",
    "            # print(artist, song_title)\n",
    "            \n",
    "#         if (count % 20) == 0:\n",
    "#             print(count)\n",
    "            \n",
    "        count += 1\n",
    "    \n",
    "    # Save intermediary lyric files\n",
    "    save_file_name = 'lyrics_' + str(year) + '.csv'\n",
    "    df.to_csv(save_file_name, sep = ',')"
   ]
  },
  {
   "cell_type": "markdown",
   "metadata": {},
   "source": [
    "# Scraping Lyrics - 2nd through 5th Pass"
   ]
  },
  {
   "cell_type": "code",
   "execution_count": 361,
   "metadata": {},
   "outputs": [],
   "source": [
    "# Search only with first artist\n",
    "# Pass 2: keep only first artist by removing artists after \",\" \n",
    "# Pass 3: keep only first artist by removing artists after \"and\" \n",
    "# Pass 4: eliminate words in song titles after \" / \"\n",
    "# Pass 5: eliminate from artists and song titles =-.()!'`\"\"'\"\n",
    "\n",
    "missed = {k: [] for k in years}\n",
    "\n",
    "# Iterate through years 1950 - 2015\n",
    "for year in range(2015, 1949, -1):\n",
    "    print(\"\\nFinding lyrics for year: \" + str(year) + \"\\n\")\n",
    "    \n",
    "    # update file name with first pass\n",
    "    file_name = \"final_\" + str(year) + \".csv\"\n",
    "\n",
    "    # Get all song titles and associated artists\n",
    "    df = pd.read_csv(file_name, encoding = \"ISO-8859-1\")\n",
    "    \n",
    "    # Eliminate spaces for column names\n",
    "    df.columns = [c.replace(' ', '_') for c in df.columns]\n",
    "\n",
    "    # counter\n",
    "    count = 0\n",
    "    \n",
    "    # For each song, get metadata\n",
    "    for index, row in df.iterrows():\n",
    "        \n",
    "        # Replace all \",\" with \":\"\n",
    "        if not pd.isnull(row['Lyrics']):\n",
    "            lyrics = row['Lyrics']\n",
    "            lyrics = lyrics.replace(',', ':')\n",
    "            df.at[index,'Lyrics'] = lyrics\n",
    "        \n",
    "        # Check if lyrics are empty\n",
    "        else:\n",
    "\n",
    "            pos = row['Position']\n",
    "            artist = row['Artist']\n",
    "            song_title = row['Song_Title']\n",
    "\n",
    "            # Remove featured artist\n",
    "            artist = re.sub(r'feat.*', '', artist)\n",
    "            artist = re.sub(r'ft\\..*', r'', artist)\n",
    "\n",
    "            # Keep only first artist\n",
    "            artist = artist.split(' and ')\n",
    "            artist = artist[0]\n",
    "\n",
    "            artist = artist.split(',')\n",
    "            artist = artist[0]\n",
    "\n",
    "            # Keep only before \" / \"\n",
    "            song_title = song_title.split(' / ')\n",
    "            song_title = song_title[0]\n",
    "\n",
    "            # Remove all non-alphanumeric characters \n",
    "            # Tried 3 combinations: artist, song_title, artist + song_title\n",
    "            # artist = re.sub(r'([^\\s\\w]|_)+', '', artist)\n",
    "            # song_title = re.sub(r'([^\\s\\w]|_)+', '', song_title)\n",
    "            \n",
    "            # Replace all spaces with %20 for url format\n",
    "            artist = re.sub(r'\\s+', '%20', artist)\n",
    "            song_title = re.sub(r\"\\s+\", \"%20\", song_title)\n",
    "            \n",
    "            \n",
    "            # Prep URL link\n",
    "            if artist.endswith('%20'):\n",
    "                artist = artist[:-3]\n",
    "\n",
    "            if song_title.endswith('%20'):\n",
    "                song_title = song_title[:-3]\n",
    "\n",
    "                \n",
    "            url = 'http://lyric-api.herokuapp.com/api/find/' + str(artist) + '/' + str(song_title)\n",
    "            # print(url)\n",
    "            \n",
    "            \n",
    "            # Load URL\n",
    "            try: \n",
    "                data = json.load(urllib2.urlopen(url))\n",
    "                lyric = data['lyric']\n",
    "                lyric = lyric.replace(',', ':')\n",
    "                df.at[index,'Lyrics'] = lyric\n",
    "\n",
    "            except (urllib2.HTTPError, NameError, UnicodeDecodeError):\n",
    "                pass\n",
    "    \n",
    "            # CHECK: If lyrics did not load or are missing, add to missed \n",
    "            if not df.at[index,'Lyrics']:\n",
    "                missed2[year].append(pos)\n",
    "                # print('MISSED', artist, song_title)\n",
    "            else:\n",
    "                print('FOUND', artist, song_title)\n",
    "\n",
    "            \n",
    "    # Drop first column 'Unnmamed: 0'\n",
    "    # df = df.drop(columns = [df.columns[0]], axis=1)\n",
    "      \n",
    "        \n",
    "    # Save final lyric files\n",
    "    save_file_name = 'FINAL_' + str(year) + '.csv'\n",
    "    df.to_csv(save_file_name, sep = ',')"
   ]
  },
  {
   "cell_type": "markdown",
   "metadata": {},
   "source": [
    "# Initialize Stop Words\n",
    "\n",
    "Add lyric-specific stop words to NLTK's pre-defined list"
   ]
  },
  {
   "cell_type": "code",
   "execution_count": 20,
   "metadata": {},
   "outputs": [],
   "source": [
    "stoplist = list(stopwords.words('english'))\n",
    "# stoplist.remove('no') # negation\n",
    "# stoplist.remove('not') # negation\n",
    "stoplist.extend(['ooh', 'ye', 'yeah', 'hey', 'us', 'mmm' \n",
    "                 'aw', 'ow' 'yes', 'oh','yet', 'ay', 'uh', \n",
    "                 'huh', 'nah', 'ya', 'woo', 'youre', 'mhm'\n",
    "                 'hmm', 'as', 'i', 'we', 'me', 'blah'])"
   ]
  },
  {
   "cell_type": "markdown",
   "metadata": {},
   "source": [
    "# Normalize + Tokenize Lyrics\n",
    "1. Split on punctuation \n",
    "2. Converting all letters to lowercase\n",
    "3. Remove all numbers\n",
    "4. Ignore contractions\n",
    "5. Remove all non-alphanumeric characters\n",
    "6. Remove stopwords\n",
    "7. Lemmatize using NLTK"
   ]
  },
  {
   "cell_type": "code",
   "execution_count": 120,
   "metadata": {},
   "outputs": [],
   "source": [
    "# Change directory\n",
    "os.chdir('/Users/michelleyoun/Desktop/nlp/final')\n",
    "\n",
    "corpus = set()\n",
    "lemmatizer = WordNetLemmatizer()\n",
    "\n",
    "# Iterate through years 1950 - 2015\n",
    "for year in range(2015, 1949, -1):\n",
    "    print(\"Normalizing lyrics for year: \" + str(year) + \"\\n\")\n",
    "    \n",
    "    file_name = 'FINAL_' + str(year)\n",
    "    file = pd.read_csv(file_name + \".csv\")\n",
    "    \n",
    "    \n",
    "    # Load JSON\n",
    "    test_json = file.to_json(orient = 'index')\n",
    "    json_object = json.loads(test_json)\n",
    "    \n",
    "    \n",
    "    # Initialize number of rows\n",
    "    rows = len(json_object) # 30-100 (less for older years)\n",
    "    rows = [str(i) for i in range(rows)]\n",
    "    \n",
    "    \n",
    "    # Iterate by line\n",
    "    for r in rows:\n",
    "        text = json_object[r]['Lyrics']\n",
    "\n",
    "\n",
    "        # CASE 1: If lyrics are empty, add empty list\n",
    "        if not text:\n",
    "            json_object[r]['Tokens'] = []\n",
    "\n",
    "\n",
    "        # CASE 2: If set to unknown default, add empty list\n",
    "\n",
    "        # HEROKU API unknown default text:\n",
    "        # Unfortunately: we are not licensed to display the full lyrics for \n",
    "        # this song at the moment. Hopefully we will be able to in the future. \n",
    "        # Until then... how about a random page?\n",
    "\n",
    "        elif text.startswith('Unfortunately:'):\n",
    "            json_object[r]['Tokens'] = []\n",
    "\n",
    "\n",
    "        # CASE 3: If lyrics exist, normalize + tokenize\n",
    "        else:\n",
    "            # Split lyrics on characters\n",
    "            new_text = re.split(r'[\\(\\):;,\\s]\\s*', text)\n",
    "\n",
    "            tokens = []\n",
    "\n",
    "            # Check each word in text\n",
    "            for word in new_text:\n",
    "\n",
    "                # Make lowercase\n",
    "                word = word.lower()\n",
    "                \n",
    "                # Ignore contractions\n",
    "                if word in CONTRACTION_MAP:\n",
    "                    continue\n",
    "                \n",
    "                # Remove all non-alphanumeric characters \n",
    "                word = re.sub(r'([^\\s\\w]|_)+', '', word)\n",
    "\n",
    "                # Remove all digits\n",
    "                word = re.sub('\\d+', '', word)\n",
    "\n",
    "                # Ignore contractions\n",
    "                if word in CONTRACTION_MAP:\n",
    "                    continue\n",
    "                    \n",
    "                # Ignore words without vowels or y\n",
    "                if not set('aeiouy').intersection(word):\n",
    "                    continue\n",
    "                \n",
    "                # Ignore words with less than 3 letters\n",
    "                if len(word) < 3:\n",
    "                    continue\n",
    "                    \n",
    "                # Reconciling slang - not perfect\n",
    "                # Assumption: If word ends with '-in', add 'g' \n",
    "                # and letter preceding -in is NOT a vowel\n",
    "                # Examples of words that we don't want fitting the condition but do:\n",
    "                # birkin, justin, nogin, builtin\n",
    "                vowels = 'aeiou'\n",
    "                if word.endswith('in') and word[-3] not in vowels and len(word) >= 5:\n",
    "                    word = word + 'g'\n",
    "                \n",
    "                # Lemmatize word\n",
    "                word = lemmatizer.lemmatize(word)\n",
    "\n",
    "                    \n",
    "                # Keep only letters before apostrophe\n",
    "                # if \"'\" in word:\n",
    "                    # num = word.index(\"'\")\n",
    "                    # word = word[:num]\n",
    "                    \n",
    "                # Ignore words with all the same letters\n",
    "                if word == len(word) * word[0]:\n",
    "                    continue\n",
    "                    \n",
    "                # Ignore words with 3 of the same letters in a row\n",
    "                repeat_flag = False\n",
    "                for i in range(len(word)-2):\n",
    "                    if (word[i] == word[i+1] == word[i+2]):\n",
    "                        repeat_flag = True\n",
    "                \n",
    "                if repeat_flag:\n",
    "                    continue\n",
    "                \n",
    "                # Ignore stoplist words\n",
    "                if word in stoplist:\n",
    "                    continue\n",
    "                \n",
    "                # Ignore words with 20+ letters because it is probably not a word\n",
    "                if len(word) >= 20:\n",
    "                    continue \n",
    "                    \n",
    "                    \n",
    "                # Add non-empty, non-stopwords to tokens\n",
    "                tokens.append(word)\n",
    "                    \n",
    "\n",
    "            # Add tokens to JSON object\n",
    "            json_object[r]['Tokens'] = tokens\n",
    "            \n",
    "            set_tokens = set(tokens)\n",
    "            corpus.update(set_tokens)\n",
    "\n",
    "            \n",
    "            # Write to JSON file\n",
    "            json_file_name = 'tokens_' + str(year) + '.json'\n",
    "            with open(json_file_name, 'w') as json_file:\n",
    "                \n",
    "                # indent parameter for nice formatting\n",
    "                json.dump(json_object, json_file, indent=4)"
   ]
  },
  {
   "cell_type": "code",
   "execution_count": 122,
   "metadata": {},
   "outputs": [],
   "source": [
    "# Print 100 words in the corpus\n",
    "# print(corpus)"
   ]
  },
  {
   "cell_type": "markdown",
   "metadata": {},
   "source": [
    "# OPTION: Change contractions"
   ]
  },
  {
   "cell_type": "code",
   "execution_count": 7,
   "metadata": {},
   "outputs": [],
   "source": [
    "# Original: https://github.com/dipanjanS/practical-machine-learning-with-python/blob/master/bonus%20content/nlp%20proven%20approach/contractions.py\n",
    "# Modified by Michelle Youn for project use\n",
    "\n",
    "\n",
    "CONTRACTION_MAP = {\n",
    "\"ain't\": \"is not\",\n",
    "\"aren't\": \"are not\",\n",
    "\"can't\": \"cannot\",\n",
    "\"can't've\": \"cannot have\",\n",
    "\"'cause\": \"because\",\n",
    "\"could've\": \"could have\",\n",
    "\"couldn't\": \"could not\",\n",
    "\"couldn't've\": \"could not have\",\n",
    "\"didn't\": \"did not\",\n",
    "\"doesn't\": \"does not\",\n",
    "\"don't\": \"do not\",\n",
    "\"hadn't\": \"had not\",\n",
    "\"hadn't've\": \"had not have\",\n",
    "\"hasn't\": \"has not\",\n",
    "\"haven't\": \"have not\",\n",
    "\"he'd\": \"he would\",\n",
    "\"he'd've\": \"he would have\",\n",
    "\"he'll\": \"he will\",\n",
    "\"he'll've\": \"he he will have\",\n",
    "\"he's\": \"he is\",\n",
    "\"how'd\": \"how did\",\n",
    "\"how'd'y\": \"how do you\",\n",
    "\"how'll\": \"how will\",\n",
    "\"how's\": \"how is\",\n",
    "\"I'd\": \"I would\",\n",
    "\"I'd've\": \"I would have\",\n",
    "\"I'll\": \"I will\",\n",
    "\"I'll've\": \"I will have\",\n",
    "\"I'm\": \"I am\",\n",
    "\"I've\": \"I have\",\n",
    "\"i'd\": \"i would\",\n",
    "\"i'd've\": \"i would have\",\n",
    "\"i'll\": \"i will\",\n",
    "\"i'll've\": \"i will have\",\n",
    "\"i'm\": \"i am\",\n",
    "\"i've\": \"i have\",\n",
    "\"isn't\": \"is not\",\n",
    "\"it'd\": \"it would\",\n",
    "\"it'd've\": \"it would have\",\n",
    "\"it'll\": \"it will\",\n",
    "\"it'll've\": \"it will have\",\n",
    "\"it's\": \"it is\",\n",
    "\"let's\": \"let us\",\n",
    "\"ma'am\": \"madam\",\n",
    "\"mayn't\": \"may not\",\n",
    "\"might've\": \"might have\",\n",
    "\"mightn't\": \"might not\",\n",
    "\"mightn't've\": \"might not have\",\n",
    "\"must've\": \"must have\",\n",
    "\"mustn't\": \"must not\",\n",
    "\"mustn't've\": \"must not have\",\n",
    "\"needn't\": \"need not\",\n",
    "\"needn't've\": \"need not have\",\n",
    "\"o'clock\": \"of the clock\",\n",
    "\"oughtn't\": \"ought not\",\n",
    "\"oughtn't've\": \"ought not have\",\n",
    "\"shan't\": \"shall not\",\n",
    "\"sha'n't\": \"shall not\",\n",
    "\"shan't've\": \"shall not have\",\n",
    "\"she'd\": \"she would\",\n",
    "\"she'd've\": \"she would have\",\n",
    "\"she'll\": \"she will\",\n",
    "\"she'll've\": \"she will have\",\n",
    "\"she's\": \"she is\",\n",
    "\"should've\": \"should have\",\n",
    "\"shouldn't\": \"should not\",\n",
    "\"shouldn't've\": \"should not have\",\n",
    "\"so've\": \"so have\",\n",
    "\"so's\": \"so as\",\n",
    "\"that'd\": \"that would\",\n",
    "\"that'd've\": \"that would have\",\n",
    "\"that's\": \"that is\",\n",
    "\"there'd\": \"there would\",\n",
    "\"there'd've\": \"there would have\",\n",
    "\"there's\": \"there is\",\n",
    "\"they'd\": \"they would\",\n",
    "\"they'd've\": \"they would have\",\n",
    "\"they'll\": \"they will\",\n",
    "\"they'll've\": \"they will have\",\n",
    "\"they're\": \"they are\",\n",
    "\"they've\": \"they have\",\n",
    "\"to've\": \"to have\",\n",
    "\"wasn't\": \"was not\",\n",
    "\"we'd\": \"we would\",\n",
    "\"we'd've\": \"we would have\",\n",
    "\"we'll\": \"we will\",\n",
    "\"we'll've\": \"we will have\",\n",
    "\"we're\": \"we are\",\n",
    "\"we've\": \"we have\",\n",
    "\"weren't\": \"were not\",\n",
    "\"what'll\": \"what will\",\n",
    "\"what'll've\": \"what will have\",\n",
    "\"what're\": \"what are\",\n",
    "\"what's\": \"what is\",\n",
    "\"what've\": \"what have\",\n",
    "\"when's\": \"when is\",\n",
    "\"when've\": \"when have\",\n",
    "\"where'd\": \"where did\",\n",
    "\"where's\": \"where is\",\n",
    "\"where've\": \"where have\",\n",
    "\"who'll\": \"who will\",\n",
    "\"who'll've\": \"who will have\",\n",
    "\"who's\": \"who is\",\n",
    "\"who've\": \"who have\",\n",
    "\"why's\": \"why is\",\n",
    "\"why've\": \"why have\",\n",
    "\"will've\": \"will have\",\n",
    "\"won't\": \"will not\",\n",
    "\"won't've\": \"will not have\",\n",
    "\"would've\": \"would have\",\n",
    "\"wouldn't\": \"would not\",\n",
    "\"wouldn't've\": \"would not have\",\n",
    "\"y'all\": \"you all\",\n",
    "\"y'all'd\": \"you all would\",\n",
    "\"y'all'd've\": \"you all would have\",\n",
    "\"y'all're\": \"you all are\",\n",
    "\"y'all've\": \"you all have\",\n",
    "\"you'd\": \"you would\",\n",
    "\"you'd've\": \"you would have\",\n",
    "\"you'll\": \"you will\",\n",
    "\"you'll've\": \"you will have\",\n",
    "\"you're\": \"you are\",\n",
    "\"you've\": \"you have\"\n",
    "}\n",
    "\n",
    "def expand_contractions(word, contraction_mapping=CONTRACTION_MAP):\n",
    "    return contraction_mapping[word]"
   ]
  },
  {
   "cell_type": "markdown",
   "metadata": {},
   "source": [
    "# Feature Extraction Method 1: BoW Model\n",
    "\n",
    "Term frequency-inverse document frequency (TF-IDF) penalizes the word counts for words that appear very often in a corpus, since they should be less likely to provide insight into the specific topics of a document given how common the word is. Using tf-idf, we are able to identify features for each song that can represent how important each word is to that song."
   ]
  },
  {
   "cell_type": "code",
   "execution_count": 96,
   "metadata": {},
   "outputs": [],
   "source": [
    "# Change directory\n",
    "os.chdir('/Users/michelleyoun/Desktop/nlp/tokens')"
   ]
  },
  {
   "cell_type": "code",
   "execution_count": 68,
   "metadata": {},
   "outputs": [],
   "source": [
    "# Convert corpus set to list\n",
    "corpus = list(corpus)"
   ]
  },
  {
   "cell_type": "code",
   "execution_count": 294,
   "metadata": {
    "scrolled": true
   },
   "outputs": [],
   "source": [
    "documents = []\n",
    "songs = []\n",
    "song_titles = []\n",
    "\n",
    "# Iterate through years 1950 - 2015\n",
    "for year in range(2015, 1949, -1):\n",
    "    print(\"Normalizing lyrics for year: \" + str(year))\n",
    "    \n",
    "    # Get file name\n",
    "    file_name = 'tokens_' + str(year) + '.json'\n",
    "    \n",
    "    with open(file_name) as json_file:\n",
    "        data = json.load(json_file)\n",
    "        \n",
    "        for i in data:\n",
    "            text = data[i]['Tokens']\n",
    "            \n",
    "            # Add if lyrics are not empty\n",
    "            if text:\n",
    "                new = \" \".join(text)\n",
    "                documents.append(new)\n",
    "                \n",
    "                # Add position\n",
    "                pos = data[i]['Position']\n",
    "                col_name = str(year) + '_' + str(pos)\n",
    "                songs.append(col_name)\n",
    "                \n",
    "                # Add song name\n",
    "                song_name = data[i]['Song_Title']\n",
    "                song_titles.append(song_name)"
   ]
  },
  {
   "cell_type": "code",
   "execution_count": 112,
   "metadata": {
    "scrolled": true
   },
   "outputs": [
    {
     "data": {
      "text/plain": [
       "5458"
      ]
     },
     "execution_count": 112,
     "metadata": {},
     "output_type": "execute_result"
    }
   ],
   "source": [
    "len(documents) # 5458/6180 songs available with lyrics"
   ]
  },
  {
   "cell_type": "markdown",
   "metadata": {},
   "source": [
    "Group vectors by decade, divided songs manually"
   ]
  },
  {
   "cell_type": "code",
   "execution_count": 170,
   "metadata": {},
   "outputs": [],
   "source": [
    "count2010 = 0\n",
    "count2000 = 0\n",
    "count1990 = 0\n",
    "count1980 = 0\n",
    "count1970 = 0\n",
    "count1960 = 0\n",
    "count1950 = 0\n",
    "\n",
    "for i in songs:\n",
    "    year = (i[:4])\n",
    "    year = int(year)\n",
    "    \n",
    "    if year >= 2010:\n",
    "        count2010 += 1\n",
    "    \n",
    "    if (year < 2010) and (year >= 2000):\n",
    "        count2000 += 1\n",
    "    \n",
    "    if (year < 2000) and (year >= 1990):\n",
    "        count1990 += 1\n",
    "    \n",
    "    if (year < 1990) and (year >= 1980):\n",
    "        count1980 += 1\n",
    "    \n",
    "    if (year < 1980) and (year >= 1970):\n",
    "        count1970 += 1\n",
    "    \n",
    "    if (year < 1970) and (year >= 1960):\n",
    "        count1960 += 1\n",
    "    \n",
    "    if (year < 1960) and (year >= 1950):\n",
    "        count1950 += 1"
   ]
  },
  {
   "cell_type": "code",
   "execution_count": 296,
   "metadata": {},
   "outputs": [],
   "source": [
    "print(count2010) #562\n",
    "print(count2000) #951\n",
    "print(count1990) #935\n",
    "print(count1980) #919\n",
    "print(count1970) #895\n",
    "print(count1960) #790\n",
    "print(count1950) #406"
   ]
  },
  {
   "cell_type": "code",
   "execution_count": 185,
   "metadata": {},
   "outputs": [],
   "source": [
    "documents_2010s = documents[:561]\n",
    "songs_2010s = songs[:561]\n",
    "song_titles_2010s = song_titles[:561]\n",
    "\n",
    "documents_2000s =  documents[562:1512]\n",
    "songs_2000s = songs[562:1512]\n",
    "song_titles_2000s = song_titles[:1512]\n",
    "\n",
    "documents_1990s = documents[1513:2447]\n",
    "songs_1990s = songs[1513:2447]\n",
    "song_titles_1990s = song_titles[1513:2447]\n",
    "\n",
    "documents_1980s = documents[2448:3366]\n",
    "songs_1980s = songs[2448:3366]\n",
    "song_titles_1980s = song_titles[2448:3366]\n",
    "\n",
    "documents_1970s = documents[3367:4261]\n",
    "songs_1970s = songs[3367:4261]\n",
    "song_titles_1970s = song_titles[3367:4261]\n",
    "\n",
    "documents_1960s = documents[4242:5051]\n",
    "songs_1960s = songs[4242:5051]\n",
    "song_titles_1960s = song_titles[4242:5051]\n",
    "\n",
    "documents_1950s = documents[5052:]\n",
    "songs_1950s = songs[5052:]\n",
    "song_titles_1950s = song_titles[5052:]"
   ]
  },
  {
   "cell_type": "markdown",
   "metadata": {},
   "source": [
    "# K-Means Clustering Using TF-IDF Matrix \n",
    "\n",
    "<b>TF-IDF</b> values are calculated with the following two components:\n",
    "\n",
    "- Term Frequency: frequency of the word in the current document.\n",
    "- Inverse Document Frequency: measure of how much information the word provides across all documents\n",
    "\n",
    "A TF-IDF matrix is useful because it highlights words that are distinct (contain useful information) in a given document.\n",
    "\n",
    "K-Means Clustering groups vectors together based on how far apart they are from each other. "
   ]
  },
  {
   "cell_type": "code",
   "execution_count": 297,
   "metadata": {},
   "outputs": [
    {
     "name": "stdout",
     "output_type": "stream",
     "text": [
      "(5458, 20470)\n"
     ]
    }
   ],
   "source": [
    "vectorizer = TfidfVectorizer()\n",
    "X = vectorizer.fit_transform(documents)\n",
    "print(X.shape)"
   ]
  },
  {
   "cell_type": "code",
   "execution_count": 300,
   "metadata": {},
   "outputs": [
    {
     "name": "stdout",
     "output_type": "stream",
     "text": [
      "          tfidf\n",
      "19045  0.631747\n",
      "7212   0.592990\n",
      "8683   0.232051\n",
      "19535  0.226705\n",
      "1688   0.189350\n",
      "8030   0.140808\n",
      "4460   0.118853\n",
      "7608   0.095255\n",
      "8463   0.083029\n",
      "3679   0.079705\n",
      "\n",
      " (20470, 1)\n"
     ]
    }
   ],
   "source": [
    "# Checking TFIDF values for test vector \n",
    "test_vector = X[0]\n",
    "df = pd.DataFrame(test_vector.T.todense(), columns=[\"tfidf\"])\n",
    "df = df.sort_values(by=[\"tfidf\"],ascending=False)\n",
    "print(df[:10])\n",
    "print(\"\\n\", df.shape)"
   ]
  },
  {
   "cell_type": "code",
   "execution_count": 295,
   "metadata": {},
   "outputs": [],
   "source": [
    "# Clustering by all songs, irrespective of decade\n",
    "# Tried n in range(4,14) - 6 arbitrarily chosen because it seemed to be the most well defined\n",
    "kmeans = KMeans(n_clusters=6, random_state=0)\n",
    "clusters = kmeans.fit_predict(X)"
   ]
  },
  {
   "cell_type": "code",
   "execution_count": 340,
   "metadata": {},
   "outputs": [
    {
     "name": "stdout",
     "output_type": "stream",
     "text": [
      "[('love', 3771), ('like', 3274), ('know', 3070), ('come', 3010), ('got', 2759), ('get', 2664), ('baby', 2402), ('wa', 2122), ('night', 2100), ('make', 1974), ('one', 1875), ('see', 1864), ('time', 1840), ('say', 1791), ('gonna', 1790), ('want', 1780), ('day', 1545), ('let', 1512), ('back', 1461), ('take', 1434)]\n"
     ]
    }
   ],
   "source": [
    "# Get 20 words with the highest term frequencies in each cluster\n",
    "\n",
    "from collections import Counter\n",
    "\n",
    "cluster_documents = \"\"\n",
    "\n",
    "for i in range(len(clusters)):    \n",
    "    if clusters[i] == 5: # Change 0 to 6\n",
    "        cluster_documents += documents[i]\n",
    "        \n",
    "split_it = cluster_documents.split() \n",
    "  \n",
    "# Pass the split_it list to instance of Counter class. \n",
    "Counter = Counter(split_it) \n",
    "  \n",
    "# most_common() produces k frequently encountered \n",
    "# input values and their respective counts. \n",
    "most_occur = Counter.most_common(20) \n",
    "  \n",
    "print(most_occur)"
   ]
  },
  {
   "cell_type": "markdown",
   "metadata": {},
   "source": [
    "Listing term frequencies of the 6 clusters is not very useful when determining the overarching topic of the cluster\n",
    "\n",
    "Cluster 0: [('baby', 4824), ('love', 1550), ('know', 938), ('want', 812), ('like', 628), ('come', 606), ('got', 576), ('girl', 542), ('need', 474), ('let', 445), ('make', 440), ('get', 427), ('take', 415), ('wanna', 408), ('time', 388), ('say', 356), ('see', 354), ('right', 348), ('way', 330), ('gonna', 323)]\n",
    "\n",
    "Cluster 1: [('like', 5071), ('get', 4765), ('know', 3718), ('got', 3624), ('girl', 3256), ('wanna', 2512), ('make', 2118), ('want', 2050), ('baby', 1716), ('right', 1580), ('see', 1562), ('love', 1522), ('back', 1480), ('gonna', 1431), ('let', 1397), ('way', 1322), ('come', 1312), ('one', 1288), ('say', 1200), ('man', 1171)]\n",
    "\n",
    "Cluster 2: [('instrumentalinstrumentalinstrumentalinstrumentalinstrumentalinstrumentalinstrumentalinstrumentalinstrumentalinstrumentalinstrumentalinstrumentalinstrumentalinstrumentalinstrumentalinstrumentalinstrumentalinstrumentalinstrumentalinstrumentalinstrumentalinstrumentalinstrumentalinstrumentalinstrumentalinstrumentalinstrumentalinstrumentalinstrumentalinstrumentalinstrumentalinstrumentalinstrumentalinstrumentalinstrumentalinstrumentalinstrumentalinstrumentalinstrumentalinstrumentalinstrumentalinstrumentalinstrumental', 1)]\n",
    "\n",
    "Cluster 3: [('love', 8786), ('know', 1404), ('baby', 983), ('got', 753), ('one', 750), ('want', 735), ('let', 710), ('like', 705), ('need', 691), ('make', 678), ('way', 676), ('never', 662), ('heart', 649), ('girl', 619), ('time', 608), ('say', 591), ('feel', 580), ('give', 550), ('tell', 515), ('night', 478)]\n",
    "\n",
    "Cluster 4: [('know', 3330), ('love', 2505), ('time', 2493), ('never', 2130), ('one', 1951), ('say', 1950), ('heart', 1817), ('take', 1802), ('want', 1516), ('see', 1489), ('like', 1371), ('let', 1366), ('away', 1358), ('way', 1320), ('make', 1288), ('wa', 1231), ('could', 1204), ('come', 1200), ('baby', 1161), ('feel', 1127)]\n",
    "\n",
    "Cluster 5: [('love', 3771), ('like', 3274), ('know', 3070), ('come', 3010), ('got', 2759), ('get', 2664), ('baby', 2402), ('wa', 2122), ('night', 2100), ('make', 1974), ('one', 1875), ('see', 1864), ('time', 1840), ('say', 1791), ('gonna', 1790), ('want', 1780), ('day', 1545), ('let', 1512), ('back', 1461), ('take', 1434)]"
   ]
  },
  {
   "cell_type": "code",
   "execution_count": 330,
   "metadata": {},
   "outputs": [],
   "source": [
    "# Get 20 words with the highest TF-IDF values in each cluster\n",
    "\n",
    "kmeans = KMeans(n_clusters=6, random_state=0)\n",
    "clusters = kmeans.fit_predict(X)\n",
    "\n",
    "# Add randomness\n",
    "# clusters = MiniBatchKMeans(n_clusters=6, init_size=1024, batch_size=2048, random_state=20).fit_predict(X)"
   ]
  },
  {
   "cell_type": "code",
   "execution_count": 341,
   "metadata": {},
   "outputs": [
    {
     "name": "stdout",
     "output_type": "stream",
     "text": [
      "\n",
      "Cluster 0\n",
      "yes,say,time,get,gonna,make,take,good,wanna,let,got,loving,like,need,girl,come,know,want,love,baby\n",
      "\n",
      "Cluster 1\n",
      "love,come,way,see,man,good,back,let,nigga,gonna,right,baby,make,want,know,wanna,got,girl,like,get\n",
      "\n",
      "Cluster 2\n",
      "flopped,fluid,flu,flown,flowjoe,flowing,flowered,flower,flop,flowed,flossy,flossing,flossed,floss,florist,florida,floppy,flow,zwei,instrumental\n",
      "\n",
      "Cluster 3\n",
      "like,time,girl,got,feel,tell,say,true,make,want,way,one,never,give,heart,let,need,baby,know,love\n",
      "\n",
      "Cluster 4\n",
      "cry,tell,day,ever,life,wa,let,way,could,see,want,away,take,say,one,love,heart,never,time,know\n",
      "\n",
      "Cluster 5\n",
      "said,say,want,make,well,time,little,one,see,day,gonna,baby,get,know,got,wa,night,like,come,love\n"
     ]
    }
   ],
   "source": [
    "# Get topics by cluster\n",
    "df = pd.DataFrame(X.todense()).groupby(clusters).mean()\n",
    "\n",
    "for i,r in df.iterrows():\n",
    "    print('\\nCluster {}'.format(i))\n",
    "    print(','.join([vectorizer.get_feature_names()[t] for t in np.argsort(r)[-20:]]))"
   ]
  },
  {
   "cell_type": "markdown",
   "metadata": {},
   "source": [
    "Topics by Cluster\n",
    "\n",
    "Manually defined\n",
    "- Cluster 0: Relationship\n",
    "- Cluster 1: Wishful Love\n",
    "- Cluster 2: Instrumental\n",
    "- Cluster 3: One-Side Love\n",
    "- Cluster 4: Heartbreak\n",
    "- Cluster 5: Communication in Love\n",
    "\n",
    "Cluster 0\n",
    "yes,say,time,get,gonna,make,take,good,wanna,let,got,loving,like,need,girl,come,know,want,love,baby\n",
    "\n",
    "Cluster 1\n",
    "love,come,way,see,man,good,back,let,nigga,gonna,right,baby,make,want,know,wanna,got,girl,like,get\n",
    "\n",
    "Cluster 2\n",
    "flopped,fluid,flu,flown,flowjoe,flowing,flowered,flower,flop,flowed,flossy,flossing,flossed,floss,florist,florida,floppy,flow,zwei,instrumental\n",
    "\n",
    "Cluster 3\n",
    "like,time,girl,got,feel,tell,say,true,make,want,way,one,never,give,heart,let,need,baby,know,love\n",
    "\n",
    "Cluster 4\n",
    "cry,tell,day,ever,life,wa,let,way,could,see,want,away,take,say,one,love,heart,never,time,know\n",
    "\n",
    "Cluster 5\n",
    "said,say,want,make,well,time,little,one,see,day,gonna,baby,get,know,got,wa,night,like,come,love"
   ]
  },
  {
   "cell_type": "code",
   "execution_count": 384,
   "metadata": {},
   "outputs": [
    {
     "data": {
      "image/png": "[encoded data removed]",
      "text/plain": [
       "<PIL.Image.Image image mode=RGB size=400x200 at 0x1A2AB45A58>"
      ]
     },
     "execution_count": 384,
     "metadata": {},
     "output_type": "execute_result"
    }
   ],
   "source": [
    "# Generate Word Clouds\n",
    "\n",
    "# Join the different processed titles together.\n",
    "# long_string = ','.join(list(papers['paper_text_processed'].values))\n",
    "\n",
    "# document = \"said,say,want,make,well,time,little,one,see,day,gonna,baby,get,know,got,wa,night,like,come,love\"\n",
    "\n",
    "# Create a WordCloud object\n",
    "wordcloud = WordCloud(background_color=\"white\", max_words=50, contour_width=3, contour_color='steelblue')\n",
    "\n",
    "# Generate a word cloud\n",
    "wordcloud.generate(''.join(documents_2010s))\n",
    "\n",
    "# Visualize the word cloud\n",
    "wordcloud.to_image()"
   ]
  },
  {
   "cell_type": "markdown",
   "metadata": {},
   "source": [
    "# LDA Topic Modeling using TF matrix"
   ]
  },
  {
   "cell_type": "code",
   "execution_count": 369,
   "metadata": {},
   "outputs": [
    {
     "name": "stdout",
     "output_type": "stream",
     "text": [
      "\n",
      "Topic #0:\n",
      "get baby come like wanna gonna make tonight night girl take dance good right let know got rock time want\n",
      "\n",
      "Topic #1:\n",
      "man back girl get shake home come one said gonna got well day see know take wa little want boy\n",
      "\n",
      "Topic #2:\n",
      "wa like little whoa back never let got song way walk get dat think remember wish said keep bit red\n",
      "\n",
      "Topic #3:\n",
      "got get like know love doo come body night make let girl bout beat boogie hear want boom wanna step\n",
      "\n",
      "Topic #4:\n",
      "like got get know girl nigga money see want bitch shit man make wanna back boy big gon say fuck\n",
      "\n",
      "Topic #5:\n",
      "love know baby time say want never one heart make way need like see feel let tell life take away\n"
     ]
    }
   ],
   "source": [
    "num_topics = 6\n",
    "num_words = 20\n",
    "\n",
    "count_vectorizer = CountVectorizer()\n",
    "count_data = count_vectorizer.fit_transform(documents)\n",
    "\n",
    "# Create LDA model\n",
    "lda = LDA(n_components=num_topics, n_jobs=-1)\n",
    "lda.fit(count_data)\n",
    "\n",
    "# Print topics found by  LDA model\n",
    "print_topics(lda, count_vectorizer, num_words)"
   ]
  },
  {
   "cell_type": "markdown",
   "metadata": {},
   "source": [
    "- Topic 0: Flirting\n",
    "- Topic 1: Childhood\n",
    "- Topic 2: Memories\n",
    "- Topic 3: Dance\n",
    "- Topic 4: Materialism\n",
    "- Topic 5: Love"
   ]
  },
  {
   "cell_type": "code",
   "execution_count": 361,
   "metadata": {},
   "outputs": [],
   "source": [
    "def print_topics(model, count_vectorizer, n_top_words):\n",
    "    words = count_vectorizer.get_feature_names()\n",
    "    for topic_idx, topic in enumerate(model.components_):\n",
    "        print(\"\\nTopic #%d:\" % topic_idx)\n",
    "        print(\" \".join([words[i]\n",
    "                        for i in topic.argsort()[:-n_top_words - 1:-1]]))"
   ]
  },
  {
   "cell_type": "code",
   "execution_count": 431,
   "metadata": {},
   "outputs": [],
   "source": [
    "# Plot clusters on graph\n",
    "\n",
    "# Change directory\n",
    "os.chdir('/Users/michelleyoun/Desktop/nlp')\n",
    "\n",
    "file = pd.read_csv('num_docs.csv', sep = '\\t')"
   ]
  },
  {
   "cell_type": "code",
   "execution_count": 432,
   "metadata": {},
   "outputs": [],
   "source": [
    "# Ignore last row, total\n",
    "file = file.iloc[:-1]\n",
    "\n",
    "# Define x and y\n",
    "x = file.columns\n",
    "x = x[1:]\n",
    "y = []\n",
    "\n",
    "# Iterate over each row \n",
    "for index, rows in file.iterrows(): \n",
    "    # Create list for the current row \n",
    "    data = rows.tolist()\n",
    "    data = data[1:]\n",
    "    y.append(data)"
   ]
  },
  {
   "cell_type": "code",
   "execution_count": 433,
   "metadata": {},
   "outputs": [
    {
     "data": {
      "text/html": [
       "<div>\n",
       "<style scoped>\n",
       "    .dataframe tbody tr th:only-of-type {\n",
       "        vertical-align: middle;\n",
       "    }\n",
       "\n",
       "    .dataframe tbody tr th {\n",
       "        vertical-align: top;\n",
       "    }\n",
       "\n",
       "    .dataframe thead th {\n",
       "        text-align: right;\n",
       "    }\n",
       "</style>\n",
       "<table border=\"1\" class=\"dataframe\">\n",
       "  <thead>\n",
       "    <tr style=\"text-align: right;\">\n",
       "      <th></th>\n",
       "      <th>Topic</th>\n",
       "      <th>1950s</th>\n",
       "      <th>1960s</th>\n",
       "      <th>1970s</th>\n",
       "      <th>1980s</th>\n",
       "      <th>1990s</th>\n",
       "      <th>2000s</th>\n",
       "      <th>2010s</th>\n",
       "    </tr>\n",
       "  </thead>\n",
       "  <tbody>\n",
       "    <tr>\n",
       "      <th>0</th>\n",
       "      <td>0</td>\n",
       "      <td>123</td>\n",
       "      <td>203</td>\n",
       "      <td>160</td>\n",
       "      <td>183</td>\n",
       "      <td>129</td>\n",
       "      <td>187</td>\n",
       "      <td>66</td>\n",
       "    </tr>\n",
       "    <tr>\n",
       "      <th>1</th>\n",
       "      <td>1</td>\n",
       "      <td>92</td>\n",
       "      <td>108</td>\n",
       "      <td>203</td>\n",
       "      <td>140</td>\n",
       "      <td>129</td>\n",
       "      <td>239</td>\n",
       "      <td>99</td>\n",
       "    </tr>\n",
       "    <tr>\n",
       "      <th>2</th>\n",
       "      <td>2</td>\n",
       "      <td>13</td>\n",
       "      <td>98</td>\n",
       "      <td>129</td>\n",
       "      <td>190</td>\n",
       "      <td>154</td>\n",
       "      <td>157</td>\n",
       "      <td>52</td>\n",
       "    </tr>\n",
       "    <tr>\n",
       "      <th>3</th>\n",
       "      <td>3</td>\n",
       "      <td>49</td>\n",
       "      <td>153</td>\n",
       "      <td>127</td>\n",
       "      <td>97</td>\n",
       "      <td>102</td>\n",
       "      <td>150</td>\n",
       "      <td>130</td>\n",
       "    </tr>\n",
       "    <tr>\n",
       "      <th>4</th>\n",
       "      <td>4</td>\n",
       "      <td>20</td>\n",
       "      <td>109</td>\n",
       "      <td>150</td>\n",
       "      <td>194</td>\n",
       "      <td>211</td>\n",
       "      <td>123</td>\n",
       "      <td>94</td>\n",
       "    </tr>\n",
       "    <tr>\n",
       "      <th>5</th>\n",
       "      <td>5</td>\n",
       "      <td>109</td>\n",
       "      <td>138</td>\n",
       "      <td>125</td>\n",
       "      <td>114</td>\n",
       "      <td>209</td>\n",
       "      <td>94</td>\n",
       "      <td>120</td>\n",
       "    </tr>\n",
       "  </tbody>\n",
       "</table>\n",
       "</div>"
      ],
      "text/plain": [
       "  Topic  1950s  1960s  1970s  1980s  1990s  2000s  2010s\n",
       "0     0    123    203    160    183    129    187     66\n",
       "1     1     92    108    203    140    129    239     99\n",
       "2     2     13     98    129    190    154    157     52\n",
       "3     3     49    153    127     97    102    150    130\n",
       "4     4     20    109    150    194    211    123     94\n",
       "5     5    109    138    125    114    209     94    120"
      ]
     },
     "execution_count": 433,
     "metadata": {},
     "output_type": "execute_result"
    }
   ],
   "source": [
    "file"
   ]
  },
  {
   "cell_type": "code",
   "execution_count": 436,
   "metadata": {},
   "outputs": [
    {
     "data": {
      "image/png": "[encoded data removed]",
      "text/plain": [
       "<Figure size 432x288 with 1 Axes>"
      ]
     },
     "metadata": {
      "needs_background": "light"
     },
     "output_type": "display_data"
    }
   ],
   "source": [
    "\n",
    "\n",
    "pal = ['#ffd1dc','#ffb3ba', '#ffdfba', '#ffffba', '#baffc9', '#bae1ff']\n",
    "plt.stackplot(x,y, colors = pal, labels=['Flirting','Childhood','Memories','Dance','Materialism','Love'])\n",
    "plt.legend(loc = 'upper left')\n",
    "plt.show()"
   ]
  },
  {
   "cell_type": "code",
   "execution_count": 429,
   "metadata": {},
   "outputs": [
    {
     "data": {
      "text/plain": [
       "[[123, 203, 160, 183, 129, 187, 66],\n",
       " [92, 108, 203, 140, 129, 239, 99],\n",
       " [13, 98, 129, 190, 154, 157, 52],\n",
       " [49, 153, 127, 97, 102, 150, 130],\n",
       " [20, 109, 150, 194, 211, 123, 94],\n",
       " [109, 138, 125, 114, 209, 94, 120]]"
      ]
     },
     "execution_count": 429,
     "metadata": {},
     "output_type": "execute_result"
    }
   ],
   "source": [
    "y"
   ]
  },
  {
   "cell_type": "code",
   "execution_count": null,
   "metadata": {},
   "outputs": [],
   "source": []
  }
 ],
 "metadata": {
  "kernelspec": {
   "display_name": "Python 3",
   "language": "python",
   "name": "python3"
  },
  "language_info": {
   "codemirror_mode": {
    "name": "ipython",
    "version": 3
   },
   "file_extension": ".py",
   "mimetype": "text/x-python",
   "name": "python",
   "nbconvert_exporter": "python",
   "pygments_lexer": "ipython3",
   "version": "3.7.3"
  }
 },
 "nbformat": 4,
 "nbformat_minor": 2
}
